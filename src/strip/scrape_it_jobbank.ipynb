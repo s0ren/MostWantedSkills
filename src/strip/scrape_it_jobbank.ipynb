{
 "cells": [
  {
   "cell_type": "markdown",
   "metadata": {},
   "source": [
    "Her gør jeg noter om at scrabe en annonce fra itjobbank"
   ]
  },
  {
   "cell_type": "code",
   "execution_count": 1,
   "metadata": {
    "vscode": {
     "languageId": "shellscript"
    }
   },
   "outputs": [
    {
     "name": "stdout",
     "output_type": "stream",
     "text": [
      "Defaulting to user installation because normal site-packages is not writeable\n",
      "Requirement already satisfied: beautifulsoup4 in /usr/lib/python3/dist-packages (4.10.0)\n",
      "Note: you may need to restart the kernel to use updated packages.\n"
     ]
    }
   ],
   "source": [
    "pip install beautifulsoup4"
   ]
  },
  {
   "cell_type": "markdown",
   "metadata": {},
   "source": [
    "For at undgå at hente siden hele tiden har jeg gemt et eksempel i chrome, i filen [/src/strip/scrape_samples/Softwareudvikler,%20Tecsys%20A_S%20_%20Computerworld%20it-jobbank.html] (file:///home/soren/Documents/TEC/foolaround/databank/MostWantedSkills/src/strip/scrape_samples/Softwareudvikler,%20Tecsys%20A_S%20_%20Computerworld%20it-jobbank.html)\n",
    "\n",
    "Et dårligt filnavn..."
   ]
  },
  {
   "cell_type": "code",
   "execution_count": 11,
   "metadata": {},
   "outputs": [
    {
     "data": {
      "text/plain": [
       "<title>Softwareudvikler, Tecsys A/S | Computerworld it-jobbank</title>"
      ]
     },
     "execution_count": 11,
     "metadata": {},
     "output_type": "execute_result"
    }
   ],
   "source": [
    "from bs4 import BeautifulSoup\n",
    "\n",
    "filename = r'scrape_samples/Softwareudvikler, Tecsys A_S _ Computerworld it-jobbank.html'\n",
    "\n",
    "with open(filename) as fp:\n",
    "    soup = BeautifulSoup(fp, 'html.parser')\n",
    "\n",
    "soup.title"
   ]
  },
  {
   "cell_type": "markdown",
   "metadata": {},
   "source": [
    "Vi skal først finde den section der er opslaget:\n",
    "![](2023-07-09-23-40-33.png)"
   ]
  },
  {
   "cell_type": "code",
   "execution_count": 16,
   "metadata": {},
   "outputs": [
    {
     "data": {
      "text/plain": [
       "<section class=\"container my-4\">\n",
       "<div class=\"row\">\n",
       "<div class=\"col-md-9\">\n",
       "<div class=\"listing content component--default bg-white p-4\">\n",
       "<h1 class=\"title\">Softwa­re­ud­vik­ler</h1>\n",
       "<div class=\"mb-4\" id=\"job_ad\">\n",
       "<p>\n",
       "<br/>\n",
       "<em>Har du erfaring med udvikling af Warehouse Management, sidder du og nikker når du hører begreber som C#, .Net, HTML5 og JavaScript og brænder du samtidig for at være med hele vejen fra design til kundesupport? Så har vi måske jobbet til dig.</em>\n",
       "</p>\n",
       "<h3>Hvem er vi? </h3>\n",
       "<p>\n",
       "Hos Tecsys bliver du en del af en international virksomhed i rivende udvikling, med gode muligheder for at dygtiggøre dig både fagligt og personligt. Du bliver en del af vores Research &amp; Development team, med dygtige og engagerede kollegaer, der på nuværende tidspunkt tæller 10 softwareudviklere og arkitekter, og vores canadiske kolleger der tæller product managers, dokumentationsteam m.m. Du tilknyttes det danske hovedkontor i Glostrup.\n",
       "</p>\n",
       "<p>\n",
       "Vi går på arbejde for at udvikle og levere kvalitet og du har nu muligheden for at blive en del af holdet, hvis du kan videreudvikle og optimere den kode, der hver dag bruges til lagerstyring af virksomheder verden over. Du bliver en del af et team, der samarbejder om at løse alle opgaverne i processen; fra specifikation, design og programmering til test, indkøring og support. Du vil i opstartsfasen blive grundigt oplært i vores systemer og arbejdsgange, vi går nemlig også på arbejde med stolthed og ønsker at alle medarbejdere er klædt på til at levere deres bedste.\n",
       "</p>\n",
       "<h3>For at blive en succes i rollen, skal du:</h3>\n",
       "<ul>\n",
       "<li>Have erfaring i at arbejde med HTML5, JavaScript (og gerne erfaring med moderne frameworks som Vue eller React), C# og .Net Framework</li>\n",
       "<li>Have SQL Server-færdigheder, herunder arbejde med Stored Procedures</li>\n",
       "<li>Have gode dansk- og engelskkundskaber</li>\n",
       "<li>Have lysten og evnen til at sætte dig ind i nye ting</li>\n",
       "<li>Have en analytisk tilgang til opgaverne</li>\n",
       "<li>Have erfaring med QA/Test og bug/fejlsøgning</li>\n",
       "<li>Trives med at supportere både eksisterende og nye kunder</li>\n",
       "</ul>\n",
       "<p>\n",
       "Vi ser gerne at du har en baggrund som diplomingeniør, datamatiker eller anden IT-humanistisk uddannelse. Hvis du derudover har erfaring med stregkoder, webservices, Azure Devops, GIT, er det en stor fordel.\n",
       "</p>\n",
       "<h3>Vil du være en del af os? </h3>\n",
       "<p>\n",
       "Vi synes selv vi har et rigtig godt arbejdsmiljø, med plads til snak ved kaffemaskinen, over et spil bordfodbold eller til frokost hvor alle samles. Derudover har vi en aktiv medarbejderklub, som løbende sørger for sociale arrangementer udenfor arbejdstid – og så stræber vi efter at have fredagsbar, hver fredag.\n",
       "</p>\n",
       "<p>\n",
       "Når du føler dig hjemme i systemer og arbejdsgange og du har lært dine nye kollegaer at kende, er der mulighed for ugentlige hjemmearbejdsdage, sådan at du kan sikre god balance mellem arbejdsliv og privatliv. Din trivsel er nemlig vigtig for os, for vi tror på at glade medarbejdere leverer de bedste resultater.\n",
       "</p>\n",
       "<h3>Interesseret?</h3>\n",
       "<p>\n",
       "Hvis du har spørgsmål til stillingen, er du meget velkommen til at kontakte R&amp;D manager Søren Eriksen-Aagreen, enten via mail på <a href=\"mailto:soren.eriksenaagreen@tecsys.com\"><strong>soren.eriksenaagreen@tecsys.com</strong></a> eller telefon på 26 77 02 68. Er du derimod klar til at sende ansøgning med det samme, skal du bare klikke på nedenstående link og uploade CV samt ansøgning.\n",
       "</p>\n",
       "<p>\n",
       "Vi glæder os til at høre fra dig.\n",
       "</p>\n",
       "<p>\n",
       "<strong>Ansøgningsfrist: 13. august 2023</strong>\n",
       "</p>\n",
       "<p>\n",
       "Opstart: 1. oktober 2023 eller hurtigst muligt.\n",
       "</p>\n",
       "</div>\n",
       "<div class=\"btn-apply-full-width mb-3 mb-md-0\">\n",
       "<a class=\"button btn btn-primary\" href=\"https://www.it-jobbank.dk/c?t=e2042104&amp;ctx=w&amp;u=21642816&amp;utm_source=itjobbank&amp;utm_medium=referral&amp;utm_campaign=soeg_jobbet_klik\" onclick=\"jixAnalytics('event', { category: 'OA LinkExtern', action: 'click', label: '/c?t=e2042104&amp;ctx=w&amp;u=21642816&amp;utm_source=itjobbank&amp;utm_medium=referral&amp;utm_campaign=soeg_jobbet_klik' });\" target=\"_blank\" title=\"Ansøg\">Ansøg</a>\n",
       "</div> <a class=\"d-block d-md-none btn-secondary btn\" href=\"https://www.it-jobbank.dk/jobannonce/484805/softwareudvikler\">\n",
       "        Gem job\n",
       "    </a>\n",
       "</div>\n",
       "</div>\n",
       "<div class=\"col-md-3 listing-sidebar listing-sidebar--right\">\n",
       "<script src=\"./Softwareudvikler, Tecsys A_S _ Computerworld it-jobbank_files/toolbar.js\" type=\"text/javascript\"></script>\n",
       "<script src=\"./Softwareudvikler, Tecsys A_S _ Computerworld it-jobbank_files/companyindex2(1).js\" type=\"text/javascript\"></script>\n",
       "<div class=\"component--default logo-date-and-listing-actions d-none d-md-block bg-white\">\n",
       "<div class=\"company-logo\">\n",
       "<img alt=\"Tecsys A/S\" src=\"./Softwareudvikler, Tecsys A_S _ Computerworld it-jobbank_files/tecsys_243_120421.png\"/>\n",
       "</div>\n",
       "<p class=\"published\">\n",
       "            Tecsys A/S \n",
       "            <br/>\n",
       "            Publiceret:\n",
       "            <strong>30. juni 2023</strong>\n",
       "</p>\n",
       "<div class=\"listing-buttons mb-3\">\n",
       "<div class=\"jix_toolbar\" id=\"jix_toolbar_h1377808\">\n",
       "<div class=\"toolbar-myjob toolbar-myjob-notapplied\">\n",
       "<a class=\"btn btn-secondary\" data-action=\"add-dialog\" href=\"https://www.it-jobbank.dk/bruger/dine-job/h1377808/gem?request=%2Fjobannonce%2F484805%2Fsoftwareudvikler\">\n",
       "        Gem job\n",
       "</a> </div>\n",
       "</div>\n",
       "</div>\n",
       "<div class=\"social-share-toolbox\" data-share-url=\"https://www.it-jobbank.dk/jobannonce/484805/softwareudvikler\" id=\"widgets_share_buttons_a9cdc4be-644d-4741-ac58-d8a80b33adbe\">\n",
       "<button class=\"social-share-native\" hidden=\"\" onclick=\"jixAnalytics('event', {category: 'social-share', action: 'click', label: &quot;share-native&quot;})\" title=\"Del\" type=\"button\">\n",
       "<svg class=\"svg-icon svg-icon--md\"><use xlink:href=\"#svg-share-native\" xmlns:xlink=\"http://www.w3.org/1999/xlink\"></use></svg>\n",
       "</button>\n",
       "<a href=\"https://www.facebook.com/sharer/sharer.php?u=https%3A%2F%2Fwww.it-jobbank.dk%2Fjobannonce%2F484805%2Fsoftwareudvikler\" onclick=\"jixAnalytics('event', {category: 'social-share', action: 'click', label: &quot;share-facebook&quot;})\" rel=\"noopener\" target=\"_blank\" title=\"Del via Facebook\">\n",
       "<svg class=\"svg-icon svg-icon--md\"><use xlink:href=\"#svg-share-facebook\" xmlns:xlink=\"http://www.w3.org/1999/xlink\"></use></svg>\n",
       "</a>\n",
       "<a href=\"https://www.linkedin.com/shareArticle?url=https%3A%2F%2Fwww.it-jobbank.dk%2Fjobannonce%2F484805%2Fsoftwareudvikler&amp;mini=true\" onclick=\"jixAnalytics('event', {category: 'social-share', action: 'click', label: &quot;share-linkedin&quot;})\" rel=\"noopener\" target=\"_blank\" title=\"Del via LinkedIn\">\n",
       "<svg class=\"svg-icon svg-icon--md\"><use xlink:href=\"#svg-share-linkedin\" xmlns:xlink=\"http://www.w3.org/1999/xlink\"></use></svg>\n",
       "</a>\n",
       "<button class=\"social-share-print\" onclick=\"jixAnalytics('event', {category: 'social-share', action: 'click', label: &quot;share-print&quot;})\" title=\"Udskriv siden\" type=\"button\">\n",
       "<svg class=\"svg-icon svg-icon--md\"><use xlink:href=\"#svg-share-print\" xmlns:xlink=\"http://www.w3.org/1999/xlink\"></use></svg>\n",
       "</button>\n",
       "<button class=\"social-share-link\" onclick=\"jixAnalytics('event', {category: 'social-share', action: 'click', label: &quot;share-link&quot;})\" title=\"Del via link\" type=\"button\">\n",
       "<svg class=\"svg-icon svg-icon--md\"><use xlink:href=\"#svg-share-link\" xmlns:xlink=\"http://www.w3.org/1999/xlink\"></use></svg>\n",
       "</button>\n",
       "</div>\n",
       "</div>\n",
       "<div class=\"job-location component--sidebar component--default bg-white\">\n",
       "<p class=\"title\">Arbejdssted</p>\n",
       "<div class=\"map_canvas maplibregl-map mapboxgl-map\" id=\"widgets_map_21592c64-9b0b-4429-bb1f-5afe54adc0c6\"><div class=\"maplibregl-canvas-container mapboxgl-canvas-container maplibregl-interactive mapboxgl-interactive maplibregl-touch-drag-pan mapboxgl-touch-drag-pan maplibregl-touch-zoom-rotate mapboxgl-touch-zoom-rotate\"><canvas aria-label=\"Map\" class=\"maplibregl-canvas mapboxgl-canvas\" height=\"300\" role=\"region\" style=\"width: 268px; height: 300px;\" tabindex=\"0\" width=\"268\"></canvas></div><div class=\"maplibregl-control-container mapboxgl-control-container\"><div class=\"maplibregl-ctrl-top-left mapboxgl-ctrl-top-left\"></div><div class=\"maplibregl-ctrl-top-right mapboxgl-ctrl-top-right\"><div class=\"maplibregl-ctrl maplibregl-ctrl-group mapboxgl-ctrl mapboxgl-ctrl-group\"><button aria-disabled=\"false\" aria-label=\"Zoom in\" class=\"maplibregl-ctrl-zoom-in mapboxgl-ctrl-zoom-in\" title=\"Zoom in\" type=\"button\"><span aria-hidden=\"true\" class=\"maplibregl-ctrl-icon mapboxgl-ctrl-icon\"></span></button><button aria-disabled=\"false\" aria-label=\"Zoom out\" class=\"maplibregl-ctrl-zoom-out mapboxgl-ctrl-zoom-out\" title=\"Zoom out\" type=\"button\"><span aria-hidden=\"true\" class=\"maplibregl-ctrl-icon mapboxgl-ctrl-icon\"></span></button></div><div class=\"maplibregl-ctrl maplibregl-ctrl-group mapboxgl-ctrl mapboxgl-ctrl-group\"><button aria-label=\"Enter fullscreen\" class=\"maplibregl-ctrl-fullscreen mapboxgl-ctrl-fullscreen\" title=\"Enter fullscreen\" type=\"button\"><span aria-hidden=\"true\" class=\"maplibregl-ctrl-icon mapboxgl-ctrl-icon\"></span></button></div><div></div></div><div class=\"maplibregl-ctrl-bottom-left mapboxgl-ctrl-bottom-left\"></div><div class=\"maplibregl-ctrl-bottom-right mapboxgl-ctrl-bottom-right\"><details class=\"maplibregl-ctrl maplibregl-ctrl-attrib mapboxgl-ctrl mapboxgl-ctrl-attrib maplibregl-compact mapboxgl-compact\"><summary aria-label=\"Toggle attribution\" class=\"maplibregl-ctrl-attrib-button mapboxgl-ctrl-attrib-button\" title=\"Toggle attribution\"></summary><div class=\"maplibregl-ctrl-attrib-inner mapboxgl-ctrl-attrib-inner\"><a href=\"https://www.viamap.net/\" target=\"_blank\">© viamap ApS</a> <a href=\"https://www.openstreetmap.org/copyright\" target=\"_blank\">© OpenStreetMap contributors</a></div></details></div></div></div>\n",
       "<p class=\"caption\"><img alt=\"Location\" height=\"8\" src=\"./Softwareudvikler, Tecsys A_S _ Computerworld it-jobbank_files/location.png\" width=\"6\"/> Glostrup</p>\n",
       "</div>\n",
       "<div class=\"mb-3\">\n",
       "<h3>Lignende jobannoncer</h3>\n",
       "<ul class=\"list-group\">\n",
       "<a class=\"list-group-item\" href=\"https://www.it-jobbank.dk/jobannonce/482068/softwareudvikler-med-bred-viden-\">Softwareudvikler med bred viden – Vejle</a>\n",
       "<a class=\"list-group-item\" href=\"https://www.it-jobbank.dk/jobannonce/483630/dygtig-og-dedikeret-frontendudvikler\">Dygtig og dedikeret frontendudvikler – Odense</a>\n",
       "<a class=\"list-group-item\" href=\"https://www.it-jobbank.dk/jobannonce/485422/softwareudvikler-c-til-mancofi\">Softwareudvikler (C#) til Mancofi – Valby</a>\n",
       "<a class=\"list-group-item\" href=\"https://www.it-jobbank.dk/jobannonce/485216/softwareudviklere-til-stil-vaer-med-til-at-skabe-samfundskritiske-it-systemer\">Softwareudviklere til STIL – vær med til at skabe samfundskritiske it-systemer – Højbjerg</a>\n",
       "<a class=\"list-group-item\" href=\"https://www.it-jobbank.dk/jobannonce/484452/net-udvikler-til-udvikling-af-fremtidens-digitale-loesninger-og-systemer-med-laegemiddelinformation-til-baade-sundhedsprofessionelle-og-borgere\">.Net udvikler til udvikling af fremtidens digitale løsninger og systemer med lægemiddelinformation til både sundhedsprofessionelle og borgere – København</a>\n",
       "</ul>\n",
       "</div>\n",
       "</div>\n",
       "</div>\n",
       "</section>"
      ]
     },
     "execution_count": 16,
     "metadata": {},
     "output_type": "execute_result"
    }
   ],
   "source": [
    "# advert = soup.section\n",
    "soup_advert = soup.find('section', class_='container')\n",
    "soup_advert"
   ]
  },
  {
   "cell_type": "code",
   "execution_count": 45,
   "metadata": {},
   "outputs": [
    {
     "name": "stdout",
     "output_type": "stream",
     "text": [
      "\n",
      "            Tecsys A/S \n",
      "             <br/> \n",
      "            Publiceret:\n",
      "             <strong>30. juni 2023</strong> \n",
      "\n"
     ]
    },
    {
     "data": {
      "text/plain": [
       "{'employer': 'Tecsys A/S',\n",
       " 'published': '30.\\xa0juni\\xa02023',\n",
       " 'innerHTML': <div class=\"mb-4\" id=\"job_ad\">\n",
       " <p>\n",
       " <br/>\n",
       " <em>Har du erfaring med udvikling af Warehouse Management, sidder du og nikker når du hører begreber som C#, .Net, HTML5 og JavaScript og brænder du samtidig for at være med hele vejen fra design til kundesupport? Så har vi måske jobbet til dig.</em>\n",
       " </p>\n",
       " <h3>Hvem er vi? </h3>\n",
       " <p>\n",
       " Hos Tecsys bliver du en del af en international virksomhed i rivende udvikling, med gode muligheder for at dygtiggøre dig både fagligt og personligt. Du bliver en del af vores Research &amp; Development team, med dygtige og engagerede kollegaer, der på nuværende tidspunkt tæller 10 softwareudviklere og arkitekter, og vores canadiske kolleger der tæller product managers, dokumentationsteam m.m. Du tilknyttes det danske hovedkontor i Glostrup.\n",
       " </p>\n",
       " <p>\n",
       " Vi går på arbejde for at udvikle og levere kvalitet og du har nu muligheden for at blive en del af holdet, hvis du kan videreudvikle og optimere den kode, der hver dag bruges til lagerstyring af virksomheder verden over. Du bliver en del af et team, der samarbejder om at løse alle opgaverne i processen; fra specifikation, design og programmering til test, indkøring og support. Du vil i opstartsfasen blive grundigt oplært i vores systemer og arbejdsgange, vi går nemlig også på arbejde med stolthed og ønsker at alle medarbejdere er klædt på til at levere deres bedste.\n",
       " </p>\n",
       " <h3>For at blive en succes i rollen, skal du:</h3>\n",
       " <ul>\n",
       " <li>Have erfaring i at arbejde med HTML5, JavaScript (og gerne erfaring med moderne frameworks som Vue eller React), C# og .Net Framework</li>\n",
       " <li>Have SQL Server-færdigheder, herunder arbejde med Stored Procedures</li>\n",
       " <li>Have gode dansk- og engelskkundskaber</li>\n",
       " <li>Have lysten og evnen til at sætte dig ind i nye ting</li>\n",
       " <li>Have en analytisk tilgang til opgaverne</li>\n",
       " <li>Have erfaring med QA/Test og bug/fejlsøgning</li>\n",
       " <li>Trives med at supportere både eksisterende og nye kunder</li>\n",
       " </ul>\n",
       " <p>\n",
       " Vi ser gerne at du har en baggrund som diplomingeniør, datamatiker eller anden IT-humanistisk uddannelse. Hvis du derudover har erfaring med stregkoder, webservices, Azure Devops, GIT, er det en stor fordel.\n",
       " </p>\n",
       " <h3>Vil du være en del af os? </h3>\n",
       " <p>\n",
       " Vi synes selv vi har et rigtig godt arbejdsmiljø, med plads til snak ved kaffemaskinen, over et spil bordfodbold eller til frokost hvor alle samles. Derudover har vi en aktiv medarbejderklub, som løbende sørger for sociale arrangementer udenfor arbejdstid – og så stræber vi efter at have fredagsbar, hver fredag.\n",
       " </p>\n",
       " <p>\n",
       " Når du føler dig hjemme i systemer og arbejdsgange og du har lært dine nye kollegaer at kende, er der mulighed for ugentlige hjemmearbejdsdage, sådan at du kan sikre god balance mellem arbejdsliv og privatliv. Din trivsel er nemlig vigtig for os, for vi tror på at glade medarbejdere leverer de bedste resultater.\n",
       " </p>\n",
       " <h3>Interesseret?</h3>\n",
       " <p>\n",
       " Hvis du har spørgsmål til stillingen, er du meget velkommen til at kontakte R&amp;D manager Søren Eriksen-Aagreen, enten via mail på <a href=\"mailto:soren.eriksenaagreen@tecsys.com\"><strong>soren.eriksenaagreen@tecsys.com</strong></a> eller telefon på 26 77 02 68. Er du derimod klar til at sende ansøgning med det samme, skal du bare klikke på nedenstående link og uploade CV samt ansøgning.\n",
       " </p>\n",
       " <p>\n",
       " Vi glæder os til at høre fra dig.\n",
       " </p>\n",
       " <p>\n",
       " <strong>Ansøgningsfrist: 13. august 2023</strong>\n",
       " </p>\n",
       " <p>\n",
       " Opstart: 1. oktober 2023 eller hurtigst muligt.\n",
       " </p>\n",
       " </div>,\n",
       " 'text': 'Har du erfaring med udvikling af Warehouse Management, sidder du og nikker når du hører begreber som C#, .Net, HTML5 og JavaScript og brænder du samtidig for at være med hele vejen fra design til kundesupport? Så har vi måske jobbet til dig.\\nHvem er vi?\\nHos Tecsys bliver du en del af en international virksomhed i rivende udvikling, med gode muligheder for at dygtiggøre dig både fagligt og personligt. Du bliver en del af vores Research & Development team, med dygtige og engagerede kollegaer, der på nuværende tidspunkt tæller 10 softwareudviklere og arkitekter, og vores canadiske kolleger der tæller product managers, dokumentationsteam m.m. Du tilknyttes det danske hovedkontor i Glostrup.\\nVi går på arbejde for at udvikle og levere kvalitet og du har nu muligheden for at blive en del af holdet, hvis du kan videreudvikle og optimere den kode, der hver dag bruges til lagerstyring af virksomheder verden over. Du bliver en del af et team, der samarbejder om at løse alle opgaverne i processen; fra specifikation, design og programmering til test, indkøring og support. Du vil i opstartsfasen blive grundigt oplært i vores systemer og arbejdsgange, vi går nemlig også på arbejde med stolthed og ønsker at alle medarbejdere er klædt på til at levere deres bedste.\\nFor at blive en succes i rollen, skal du:\\nHave erfaring i at arbejde med HTML5, JavaScript (og gerne erfaring med moderne frameworks som Vue eller React), C# og .Net Framework\\nHave SQL Server-færdigheder, herunder arbejde med Stored Procedures\\nHave gode dansk- og engelskkundskaber\\nHave lysten og evnen til at sætte dig ind i nye ting\\nHave en analytisk tilgang til opgaverne\\nHave erfaring med QA/Test og bug/fejlsøgning\\nTrives med at supportere både eksisterende og nye kunder\\nVi ser gerne at du har en baggrund som diplomingeniør, datamatiker eller anden IT-humanistisk uddannelse. Hvis du derudover har erfaring med stregkoder, webservices, Azure Devops, GIT, er det en stor fordel.\\nVil du være en del af os?\\nVi synes selv vi har et rigtig godt arbejdsmiljø, med plads til snak ved kaffemaskinen, over et spil bordfodbold eller til frokost hvor alle samles. Derudover har vi en aktiv medarbejderklub, som løbende sørger for sociale arrangementer udenfor arbejdstid – og så stræber vi efter at have fredagsbar, hver fredag.\\nNår du føler dig hjemme i systemer og arbejdsgange og du har lært dine nye kollegaer at kende, er der mulighed for ugentlige hjemmearbejdsdage, sådan at du kan sikre god balance mellem arbejdsliv og privatliv. Din trivsel er nemlig vigtig for os, for vi tror på at glade medarbejdere leverer de bedste resultater.\\nInteresseret?\\nHvis du har spørgsmål til stillingen, er du meget velkommen til at kontakte R&D manager Søren Eriksen-Aagreen, enten via mail på\\nsoren.eriksenaagreen@tecsys.com\\neller telefon på 26 77 02 68. Er du derimod klar til at sende ansøgning med det samme, skal du bare klikke på nedenstående link og uploade CV samt ansøgning.\\nVi glæder os til at høre fra dig.\\nAnsøgningsfrist: 13. august 2023\\nOpstart: 1. oktober 2023 eller hurtigst muligt.'}"
      ]
     },
     "execution_count": 45,
     "metadata": {},
     "output_type": "execute_result"
    }
   ],
   "source": [
    "advert = {}\n",
    "\n",
    "pub = soup_advert.find('p', class_='published')\n",
    "print(*pub)\n",
    "\n",
    "\n",
    "advert['employer'] = pub.contents[0].string.strip()\n",
    "advert['published'] = pub.strong.string\n",
    "advert['innerHTML'] = soup_advert.find('div', id='job_ad')\n",
    "advert['text']      = '\\n'.join(soup_advert.find('div', id='job_ad').stripped_strings)\n",
    "advert"
   ]
  }
 ],
 "metadata": {
  "kernelspec": {
   "display_name": "Python 3",
   "language": "python",
   "name": "python3"
  },
  "language_info": {
   "codemirror_mode": {
    "name": "ipython",
    "version": 3
   },
   "file_extension": ".py",
   "mimetype": "text/x-python",
   "name": "python",
   "nbconvert_exporter": "python",
   "pygments_lexer": "ipython3",
   "version": "3.10.6"
  },
  "orig_nbformat": 4
 },
 "nbformat": 4,
 "nbformat_minor": 2
}
